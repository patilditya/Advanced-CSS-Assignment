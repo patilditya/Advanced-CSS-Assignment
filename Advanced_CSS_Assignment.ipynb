{
  "nbformat": 4,
  "nbformat_minor": 0,
  "metadata": {
    "colab": {
      "provenance": []
    },
    "kernelspec": {
      "name": "python3",
      "display_name": "Python 3"
    },
    "language_info": {
      "name": "python"
    }
  },
  "cells": [
    {
      "cell_type": "code",
      "execution_count": null,
      "metadata": {
        "id": "aZ5KmUIz1-iL"
      },
      "outputs": [],
      "source": []
    },
    {
      "cell_type": "markdown",
      "source": [
        "Question 1 :Explain the purpose of using the var() function in css. Also you have created two buttons with id named\n",
        "primaryBtn and secondaryBtn which should be given background colors using the var() function. The color\n",
        "code for primaryColor is #00b7ff and secondaryColor is #6c757d.\n",
        "\n",
        "--> Here is the solution for Question 1:  \n",
        "\n",
        "## Explanation of `var()` Function in CSS:\n",
        "The `var()` function in CSS is used to define and reuse custom properties (CSS variables). It allows developers to store values (such as colors, fonts, and spacing) in variables and use them throughout the stylesheet, making it easier to maintain and update styles.  \n",
        "\n",
        "### **Advantages of Using `var()`**\n",
        "1. **Reusability:** Define a color once and reuse it multiple times.\n",
        "2. **Easier Maintenance:** Updating a single variable updates all instances where it is used.\n",
        "3. **Improves Readability:** Provides meaningful names instead of hardcoded values.\n",
        "\n",
        "---\n",
        "\n",
        "## **CSS Code for the Given Task:**\n",
        "```css\n",
        ":root {\n",
        "    --primaryColor: #00b7ff;\n",
        "    --secondaryColor: #6c757d;\n",
        "}\n",
        "\n",
        "#primaryBtn {\n",
        "    background-color: var(--primaryColor);\n",
        "    color: white;\n",
        "    padding: 10px 20px;\n",
        "    border: none;\n",
        "    cursor: pointer;\n",
        "}\n",
        "\n",
        "#secondaryBtn {\n",
        "    background-color: var(--secondaryColor);\n",
        "    color: white;\n",
        "    padding: 10px 20px;\n",
        "    border: none;\n",
        "    cursor: pointer;\n",
        "}\n",
        "```\n",
        "\n",
        "## **HTML Code:**\n",
        "```html\n",
        "<button id=\"primaryBtn\">Primary Button</button>\n",
        "<button id=\"secondaryBtn\">Secondary Button</button>\n",
        "```\n",
        "\n",
        "This code ensures that the `primaryBtn` has a blue background (`#00b7ff`) and the `secondaryBtn` has a gray background (`#6c757d`) using the `var()` function. Let me know if you need further explanations! 🚀"
      ],
      "metadata": {
        "id": "qquI8QeF2BEy"
      }
    },
    {
      "cell_type": "markdown",
      "source": [],
      "metadata": {
        "id": "by3m584V2Nnp"
      }
    },
    {
      "cell_type": "code",
      "source": [
        "#Question 2 :Create a 3D cube using the transform property of CSS\n",
        "\n",
        "--> HTML\n",
        "\n",
        "<div class=\"cube\">\n",
        "    <div class=\"face front\">Front</div>\n",
        "    <div class=\"face back\">Back</div>\n",
        "    <div class=\"face left\">Left</div>\n",
        "    <div class=\"face right\">Right</div>\n",
        "    <div class=\"face top\">Top</div>\n",
        "    <div class=\"face bottom\">Bottom</div>\n",
        "</div>\n",
        "\n",
        "\n",
        "CSS\n",
        "\n",
        "body {\n",
        "    display: flex;\n",
        "    justify-content: center;\n",
        "    align-items: center;\n",
        "    height: 100vh;\n",
        "    background-color: #f0f0f0;\n",
        "    perspective: 800px;\n",
        "}\n",
        "\n",
        ".cube {\n",
        "    position: relative;\n",
        "    width: 100px;\n",
        "    height: 100px;\n",
        "    transform-style: preserve-3d;\n",
        "    animation: rotateCube 5s infinite linear;\n",
        "}\n",
        "\n",
        ".face {\n",
        "    position: absolute;\n",
        "    width: 100px;\n",
        "    height: 100px;\n",
        "    background: rgba(0, 183, 255, 0.7);\n",
        "    border: 2px solid #00b7ff;\n",
        "    display: flex;\n",
        "    align-items: center;\n",
        "    justify-content: center;\n",
        "    font-weight: bold;\n",
        "}\n",
        "\n",
        ".front  { transform: translateZ(50px); }\n",
        ".back   { transform: rotateY(180deg) translateZ(50px); }\n",
        ".left   { transform: rotateY(-90deg) translateZ(50px); }\n",
        ".right  { transform: rotateY(90deg) translateZ(50px); }\n",
        ".top    { transform: rotateX(90deg) translateZ(50px); }\n",
        ".bottom { transform: rotateX(-90deg) translateZ(50px); }\n",
        "\n",
        "@keyframes rotateCube {\n",
        "    0%   { transform: rotateX(0) rotateY(0); }\n",
        "    100% { transform: rotateX(360deg) rotateY(360deg); }\n",
        "}\n"
      ],
      "metadata": {
        "id": "XrUWbrjW2YXp"
      },
      "execution_count": null,
      "outputs": []
    },
    {
      "cell_type": "code",
      "source": [
        "#Question 3 : Create a simple circular loader which will rotate continuously to look like a loading screen on a website\n",
        "\n",
        "--> HTML\n",
        "<div class=\"loader\"></div>\n",
        "\n",
        "\n",
        "CSS\n",
        "\n",
        "body {\n",
        "    display: flex;\n",
        "    justify-content: center;\n",
        "    align-items: center;\n",
        "    height: 100vh;\n",
        "    background-color: #f0f0f0;\n",
        "}\n",
        "\n",
        ".loader {\n",
        "    width: 50px;\n",
        "    height: 50px;\n",
        "    border: 5px solid #f3f3f3;  /* Light gray */\n",
        "    border-top: 5px solid #00b7ff;  /* Blue */\n",
        "    border-radius: 50%;\n",
        "    animation: spin 1s linear infinite;\n",
        "}\n",
        "\n",
        "@keyframes spin {\n",
        "    0%   { transform: rotate(0deg); }\n",
        "    100% { transform: rotate(360deg); }\n",
        "}\n"
      ],
      "metadata": {
        "id": "G3SESLLb2zBi"
      },
      "execution_count": null,
      "outputs": []
    },
    {
      "cell_type": "code",
      "source": [
        "#Question 4 : You have to visit the PW Skills website (https://pwskills.com/) and have to hide the logo by using the developer tool. This should be done using the css and developer tool only, use of javascript is prohibited.\n",
        "\n",
        "--> HTML\n",
        "\n",
        "<img class=\"logo\" src=\"logo.png\">\n",
        "\n",
        "\n",
        "CSS\n",
        "\n",
        ".logo {\n",
        "    display: none !important;\n",
        "}\n",
        "\n",
        "\n",
        "div.logo-container {\n",
        "    visibility: hidden;\n",
        "}\n"
      ],
      "metadata": {
        "id": "O_hN-wm-3VGZ"
      },
      "execution_count": null,
      "outputs": []
    },
    {
      "cell_type": "code",
      "source": [
        "#Question 5 : You have to visit the PW Skills website (https://pwskills.com/) and have to change the content of the ‘Login / Register’ button to ‘Connect with us’ using the developer tool. This should be done using the elements of developer tools only, use of javascript is prohibited.\n",
        "\n",
        "--> HTML\n",
        "\n",
        "<button class=\"login-btn\">Login / Register</button>\n",
        "\n",
        "\n",
        "<div class=\"login-register\">Login / Register</div>\n",
        "\n",
        "<button class=\"login-btn\">Connect with us</button>\n",
        "\n",
        "\n",
        "<div class=\"login-register\">Connect with us</div>\n"
      ],
      "metadata": {
        "id": "O_cMaJwE3unC"
      },
      "execution_count": null,
      "outputs": []
    }
  ]
}